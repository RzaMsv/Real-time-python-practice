{
 "cells": [
  {
   "cell_type": "markdown",
   "id": "2eb6516a",
   "metadata": {},
   "source": [
    "# Conditions\n",
    "### a quick review on conditions"
   ]
  },
  {
   "cell_type": "code",
   "execution_count": 14,
   "id": "1d9bd255",
   "metadata": {},
   "outputs": [
    {
     "name": "stdout",
     "output_type": "stream",
     "text": [
      "oh 40 ro rad kardia\n",
      "senne bache 2\n"
     ]
    }
   ],
   "source": [
    "sen = 44\n",
    "\n",
    "if sen > 40:\n",
    "    print (\"oh 40 ro rad kardia\")\n",
    "    senne_bache = 2\n",
    "    \n",
    "if sen < 40:\n",
    "    print (\"hanooz javoonia\")\n",
    "    senne_bache = 6\n",
    "    \n",
    "if sen == 40:\n",
    "    print (\"eyval avvale chel chelite\")\n",
    "    senne_bache = 5\n",
    "    \n",
    "print (\"senne bache\", senne_bache)"
   ]
  },
  {
   "cell_type": "markdown",
   "id": "e2d16007",
   "metadata": {},
   "source": [
    "# For loops\n",
    "### a quick review on for loops"
   ]
  },
  {
   "cell_type": "code",
   "execution_count": 1,
   "id": "14425d2e",
   "metadata": {},
   "outputs": [
    {
     "name": "stdout",
     "output_type": "stream",
     "text": [
      "1\n",
      "2\n",
      "4\n",
      "7\n"
     ]
    }
   ],
   "source": [
    "for i in [1, 2, 4, 7]:\n",
    "    print(i)"
   ]
  },
  {
   "cell_type": "code",
   "execution_count": 5,
   "id": "63a7e976",
   "metadata": {},
   "outputs": [
    {
     "name": "stdout",
     "output_type": "stream",
     "text": [
      "Start\n",
      "hi\n",
      "dog\n",
      "----------\n",
      "hi\n",
      "cat\n",
      "----------\n",
      "hi\n",
      "5\n",
      "----------\n",
      "done\n"
     ]
    }
   ],
   "source": [
    "print(\"Start\")\n",
    "\n",
    "for i in [\"dog\", \"cat\", 5]:\n",
    "    print(\"hi\")\n",
    "    print (i)\n",
    "    print(\"----------\")\n",
    "print (\"done\")"
   ]
  },
  {
   "cell_type": "code",
   "execution_count": 7,
   "id": "26483eb0",
   "metadata": {},
   "outputs": [
    {
     "name": "stdout",
     "output_type": "stream",
     "text": [
      "1 1\n",
      "2 4\n",
      "3 9\n",
      "4 16\n",
      "5 25\n",
      "6 36\n",
      "7 49\n",
      "8 64\n",
      "9 81\n"
     ]
    }
   ],
   "source": [
    "for adad in range(1, 10):\n",
    "    print(adad, adad*adad)"
   ]
  },
  {
   "cell_type": "code",
   "execution_count": 2,
   "id": "3b17ba3a",
   "metadata": {},
   "outputs": [
    {
     "name": "stdout",
     "output_type": "stream",
     "text": [
      "Hi Reza\n",
      "Hi Khodam\n",
      "Hi Martin\n",
      "Hi Amir\n"
     ]
    }
   ],
   "source": [
    "for name in [\"Reza\", \"Khodam\", \"Martin\", \"Amir\"]:\n",
    "    print(\"Hi\", name)"
   ]
  },
  {
   "cell_type": "code",
   "execution_count": 6,
   "id": "93f6698e",
   "metadata": {},
   "outputs": [
    {
     "name": "stdout",
     "output_type": "stream",
     "text": [
      "Hi  Reza\n",
      "Hi  Khodam\n",
      "Hi  Martin\n",
      "Hi  Amir\n"
     ]
    }
   ],
   "source": [
    "# def works like a separate block of codes that you can use is whenever you want it.\n",
    "# Here, we defined a function (def) and gave it an input (name)\n",
    "def salam(name):\n",
    "    print(\"Hi \", name)\n",
    "\n",
    "for name in [\"Reza\", \"Khodam\", \"Martin\", \"Amir\"]:\n",
    "    salam(name)"
   ]
  },
  {
   "cell_type": "code",
   "execution_count": 8,
   "id": "e9936c0a",
   "metadata": {},
   "outputs": [
    {
     "name": "stdout",
     "output_type": "stream",
     "text": [
      "9\n",
      "rezamoosavi\n"
     ]
    }
   ],
   "source": [
    "# Here, we defined a funciton with two inputs\n",
    "def jam(x, y):\n",
    "    print(x + y)\n",
    "\n",
    "jam(4, 5)\n",
    "jam(\"reza\", \"moosavi\")"
   ]
  },
  {
   "cell_type": "code",
   "execution_count": 18,
   "id": "0557c8f1",
   "metadata": {},
   "outputs": [
    {
     "name": "stdout",
     "output_type": "stream",
     "text": [
      "it is prime\n"
     ]
    }
   ],
   "source": [
    "# here, I wrote a script to show if a number is prime or not\n",
    "n = 19\n",
    "prime = True\n",
    "for i in range(2, n):\n",
    "    if n % i == 0:\n",
    "        prime = False\n",
    "        \n",
    "\n",
    "if prime:\n",
    "    print(\"it is prime\")\n",
    "else:\n",
    "    print(\"not prime\")\n",
    "        "
   ]
  },
  {
   "cell_type": "code",
   "execution_count": 2,
   "id": "868e5a13",
   "metadata": {},
   "outputs": [
    {
     "name": "stdout",
     "output_type": "stream",
     "text": [
      "False\n"
     ]
    }
   ],
   "source": [
    "# now we make it easier by using a function\n",
    "def isprime(n):\n",
    "    prime = True\n",
    "    for i in range(2, n):\n",
    "        if n % i == 0:\n",
    "            prime = False\n",
    "    return prime\n",
    "    \n",
    "A = 14\n",
    "B = isprime(A)\n",
    "print(B)"
   ]
  },
  {
   "cell_type": "code",
   "execution_count": 3,
   "id": "cbdc4926",
   "metadata": {},
   "outputs": [
    {
     "name": "stdout",
     "output_type": "stream",
     "text": [
      "1 is  True\n",
      "2 is  True\n",
      "3 is  True\n",
      "5 is  True\n",
      "7 is  True\n",
      "11 is  True\n",
      "13 is  True\n",
      "17 is  True\n",
      "19 is  True\n",
      "23 is  True\n",
      "29 is  True\n",
      "31 is  True\n",
      "37 is  True\n",
      "41 is  True\n",
      "43 is  True\n",
      "47 is  True\n",
      "53 is  True\n",
      "59 is  True\n",
      "61 is  True\n",
      "67 is  True\n",
      "71 is  True\n",
      "73 is  True\n",
      "79 is  True\n",
      "83 is  True\n",
      "89 is  True\n",
      "97 is  True\n"
     ]
    }
   ],
   "source": [
    "# now let's do it in our range\n",
    "def isprime(n):\n",
    "    prime = True\n",
    "    for i in range(2, n):\n",
    "        if n % i == 0:\n",
    "            prime = False\n",
    "    return prime\n",
    "\n",
    "for i in range(1, 101):\n",
    "    if isprime(i):\n",
    "        print(i, \"is \", isprime(i))"
   ]
  },
  {
   "cell_type": "code",
   "execution_count": 8,
   "id": "36109259",
   "metadata": {},
   "outputs": [
    {
     "name": "stdout",
     "output_type": "stream",
     "text": [
      "169\n"
     ]
    }
   ],
   "source": [
    "# Counting the number of prime numbers in a range\n",
    "def isprime(n):\n",
    "    prime = True\n",
    "    for i in range(2, n):\n",
    "        if n % i == 0:\n",
    "            prime = False\n",
    "    return prime\n",
    "\n",
    "prime_sum = 0\n",
    "for i in range(1, 1001):\n",
    "    if isprime(i):\n",
    "        prime_sum = prime_sum + 1\n",
    "print(prime_sum)"
   ]
  },
  {
   "cell_type": "code",
   "execution_count": 10,
   "id": "f6200700",
   "metadata": {},
   "outputs": [
    {
     "name": "stdout",
     "output_type": "stream",
     "text": [
      "170\n"
     ]
    }
   ],
   "source": [
    "# Optimization of the code by changing n to n/2\n",
    "def isprime(n):\n",
    "    prime = True\n",
    "    for i in range(2, int(n/2)):\n",
    "        if n % i == 0:\n",
    "            prime = False\n",
    "    return prime\n",
    "\n",
    "prime_sum = 0\n",
    "for i in range(1, 1001):\n",
    "    if isprime(i):\n",
    "        prime_sum = prime_sum + 1\n",
    "print(prime_sum)"
   ]
  },
  {
   "cell_type": "code",
   "execution_count": 11,
   "id": "cbf77244",
   "metadata": {},
   "outputs": [
    {
     "name": "stdout",
     "output_type": "stream",
     "text": [
      "187\n"
     ]
    }
   ],
   "source": [
    "# Optimization of the code by changing n to radical n\n",
    "def isprime(n):\n",
    "    prime = True\n",
    "    for i in range(2, int(n**0.5)):\n",
    "        if n % i == 0:\n",
    "            prime = False\n",
    "    return prime\n",
    "\n",
    "prime_sum = 0\n",
    "for i in range(1, 1001):\n",
    "    if isprime(i):\n",
    "        prime_sum = prime_sum + 1\n",
    "print(prime_sum)"
   ]
  },
  {
   "cell_type": "code",
   "execution_count": 12,
   "id": "a630e731",
   "metadata": {},
   "outputs": [
    {
     "name": "stdout",
     "output_type": "stream",
     "text": [
      "187\n"
     ]
    }
   ],
   "source": [
    "# Optimization of the code by using break in our for loop\n",
    "def isprime(n):\n",
    "    prime = True\n",
    "    for i in range(2, int(n**0.5)):\n",
    "        if n % i == 0:\n",
    "            prime = False\n",
    "            break\n",
    "    return prime\n",
    "\n",
    "prime_sum = 0\n",
    "for i in range(1, 1001):\n",
    "    if isprime(i):\n",
    "        prime_sum = prime_sum + 1\n",
    "print(prime_sum)"
   ]
  },
  {
   "cell_type": "code",
   "execution_count": 13,
   "id": "7ffe09e8",
   "metadata": {},
   "outputs": [
    {
     "name": "stdout",
     "output_type": "stream",
     "text": [
      "187\n",
      "997\n"
     ]
    }
   ],
   "source": [
    "# To find the last prime number\n",
    "def isprime(n):\n",
    "    prime = True\n",
    "    for i in range(2, int(n**0.5)):\n",
    "        if n % i == 0:\n",
    "            prime = False\n",
    "            break\n",
    "    return prime\n",
    "\n",
    "prime_sum = 0\n",
    "last_prime_number = 0\n",
    "for i in range(1, 1001):\n",
    "    if isprime(i):\n",
    "        last_prime_number = i\n",
    "        prime_sum = prime_sum + 1\n",
    "print(prime_sum)\n",
    "print(last_prime_number)"
   ]
  },
  {
   "cell_type": "markdown",
   "id": "42ecb2bb",
   "metadata": {},
   "source": [
    "# Practice question Euler 1"
   ]
  },
  {
   "cell_type": "code",
   "execution_count": 23,
   "id": "829c5139",
   "metadata": {},
   "outputs": [
    {
     "name": "stdout",
     "output_type": "stream",
     "text": [
      "3\n",
      "5\n",
      "6\n",
      "9\n",
      "23\n"
     ]
    }
   ],
   "source": [
    "# If we list all the natural numbers below 10 that are multiples of 3 or 5, we get 3, 5, 6 and 9. The sum of these multiples is 23.\n",
    "# Find the sum of all the multiples of 3 or 5 below 1000.\n",
    "\n",
    "def zarib3or5(n):\n",
    "    if n % 3 == 0 or n % 5 == 0:\n",
    "        return True\n",
    "    else:\n",
    "        return False\n",
    "\n",
    "    \n",
    "    \n",
    "# in case you found you code is not working, use print after each step to make sure each step is working correctly   \n",
    "Sum = 0\n",
    "for n in range(1, 10):\n",
    "    if zarib3or5(n):\n",
    "        print(n)\n",
    "        Sum = Sum + n\n",
    "\n",
    "print(Sum)"
   ]
  },
  {
   "cell_type": "code",
   "execution_count": 25,
   "id": "32a26a79",
   "metadata": {},
   "outputs": [
    {
     "name": "stdout",
     "output_type": "stream",
     "text": [
      "233168\n"
     ]
    }
   ],
   "source": [
    "# No apply the code for 1 to 1000\n",
    "def zarib3or5(n):\n",
    "    if n % 3 == 0 or n % 5 == 0:\n",
    "        return True\n",
    "    else:\n",
    "        return False\n",
    "\n",
    "    \n",
    "Sum = 0\n",
    "for n in range(1, 1000):\n",
    "    if zarib3or5(n):\n",
    "        Sum = Sum + n\n",
    "\n",
    "print(Sum)"
   ]
  },
  {
   "cell_type": "markdown",
   "id": "8c266ccc",
   "metadata": {},
   "source": [
    "# Fibonacci sequence question\n",
    "Each new term in the **Fibonacci sequence** is generated by adding the previous two terms. By starting with 1 and 2, the first 10 terms will be:\n",
    "\n",
    "1, 2, 3, 5, 8, 13, 21, 34, 55, 89, ...\n",
    "\n",
    "By considering the terms in the Fibonacci sequence whose values do not exceed four million, find the sum of the even-valued terms."
   ]
  },
  {
   "cell_type": "code",
   "execution_count": 26,
   "id": "15ec7eca",
   "metadata": {},
   "outputs": [
    {
     "data": {
      "text/plain": [
       "True"
      ]
     },
     "execution_count": 26,
     "metadata": {},
     "output_type": "execute_result"
    }
   ],
   "source": [
    "# first we need to make a function to check if a number is even or not\n",
    "def IsEven(n):\n",
    "    if n % 2 == 0:\n",
    "        return True\n",
    "    else:\n",
    "        return False\n",
    "    \n",
    "\n",
    "IsEven(100)  "
   ]
  },
  {
   "cell_type": "code",
   "execution_count": 35,
   "id": "1c8f05a4",
   "metadata": {},
   "outputs": [
    {
     "name": "stdout",
     "output_type": "stream",
     "text": [
      "4613732\n"
     ]
    }
   ],
   "source": [
    "# now let's define Fibonacci sequence and solve the problem\n",
    "# This is my solution\n",
    "first = 1\n",
    "second = 2\n",
    "\n",
    "Sum = 0\n",
    "while (second < 4*10**6):\n",
    "    if IsEven(second):\n",
    "        Sum = Sum + second\n",
    "    new = first + second\n",
    "    first = second\n",
    "    second = new\n",
    "\n",
    "print(Sum)"
   ]
  },
  {
   "cell_type": "code",
   "execution_count": 37,
   "id": "994a7f88",
   "metadata": {},
   "outputs": [
    {
     "name": "stdout",
     "output_type": "stream",
     "text": [
      "4613732\n"
     ]
    }
   ],
   "source": [
    "# This is Jadi's solution\n",
    "first = 1\n",
    "second = 2\n",
    "\n",
    "sum = 0\n",
    "while (first < 4*10**6):\n",
    "    if IsEven(first):\n",
    "        sum = sum + first\n",
    "    new = first + second\n",
    "    first = second\n",
    "    second = new\n",
    "\n",
    "print(sum)"
   ]
  },
  {
   "cell_type": "markdown",
   "id": "63ba8134",
   "metadata": {},
   "source": [
    "# Money lenders question\n",
    "In this part, we write a script to solve an old math problm. There are 50 people with 100$ in their pocket and they are gathered in a room. Whenever a ring bells they lend one Dollar to a random person. The question is this: \"Will somebody at some point lose all the money if the loop continues for many rounds?\""
   ]
  },
  {
   "cell_type": "code",
   "execution_count": 14,
   "id": "eda1fd8c",
   "metadata": {},
   "outputs": [
    {
     "name": "stdout",
     "output_type": "stream",
     "text": [
      "2\n",
      "3\n",
      "2\n",
      "2\n",
      "3\n",
      "2\n",
      "1\n",
      "2\n",
      "1\n"
     ]
    }
   ],
   "source": [
    "import random\n",
    "random.seed()\n",
    "for i in range(1, 10):\n",
    "    print (random.randrange(0, 4))"
   ]
  },
  {
   "cell_type": "code",
   "execution_count": 21,
   "id": "415a60de",
   "metadata": {},
   "outputs": [
    {
     "name": "stdout",
     "output_type": "stream",
     "text": [
      "0 30\n",
      "1 34\n",
      "2 22\n",
      "3 1\n",
      "4 5\n",
      "5 36\n",
      "6 49\n",
      "7 47\n",
      "8 32\n",
      "9 49\n",
      "10 15\n",
      "11 42\n",
      "12 18\n",
      "13 20\n",
      "14 41\n",
      "15 28\n",
      "16 13\n",
      "17 42\n",
      "18 44\n",
      "19 45\n",
      "20 18\n",
      "21 27\n",
      "22 12\n",
      "23 14\n",
      "24 9\n",
      "25 44\n",
      "26 19\n",
      "27 28\n",
      "28 9\n",
      "29 36\n",
      "30 6\n",
      "31 32\n",
      "32 27\n",
      "33 1\n",
      "34 26\n",
      "35 4\n",
      "36 5\n",
      "37 37\n",
      "38 49\n",
      "39 1\n",
      "40 45\n",
      "41 31\n",
      "42 9\n",
      "43 34\n",
      "44 48\n",
      "45 42\n",
      "46 46\n",
      "47 47\n",
      "48 3\n",
      "49 27\n"
     ]
    },
    {
     "data": {
      "text/plain": [
       "[99,\n",
       " 102,\n",
       " 99,\n",
       " 100,\n",
       " 100,\n",
       " 101,\n",
       " 100,\n",
       " 99,\n",
       " 99,\n",
       " 102,\n",
       " 99,\n",
       " 99,\n",
       " 100,\n",
       " 100,\n",
       " 100,\n",
       " 100,\n",
       " 99,\n",
       " 99,\n",
       " 101,\n",
       " 100,\n",
       " 100,\n",
       " 99,\n",
       " 100,\n",
       " 99,\n",
       " 99,\n",
       " 99,\n",
       " 100,\n",
       " 102,\n",
       " 101,\n",
       " 99,\n",
       " 100,\n",
       " 100,\n",
       " 101,\n",
       " 99,\n",
       " 101,\n",
       " 99,\n",
       " 101,\n",
       " 100,\n",
       " 99,\n",
       " 99,\n",
       " 99,\n",
       " 100,\n",
       " 102,\n",
       " 99,\n",
       " 101,\n",
       " 101,\n",
       " 100,\n",
       " 101,\n",
       " 100,\n",
       " 102]"
      ]
     },
     "execution_count": 21,
     "metadata": {},
     "output_type": "execute_result"
    }
   ],
   "source": [
    "# First we need to generate the code for one bell ringing\n",
    "\n",
    "people = []\n",
    "for i in range(0,50):\n",
    "    people.append(100)\n",
    "\n",
    "for person1 in range(0, 50):\n",
    "    person2 = random.randrange(0, 50)\n",
    "    print(person1, person2)\n",
    "    people[person1] = people[person1] - 1\n",
    "    people[person2] = people[person2] + 1\n",
    "\n",
    "people"
   ]
  },
  {
   "cell_type": "code",
   "execution_count": 23,
   "id": "7267d658",
   "metadata": {},
   "outputs": [
    {
     "data": {
      "text/plain": [
       "[87,\n",
       " 112,\n",
       " 113,\n",
       " 103,\n",
       " 90,\n",
       " 77,\n",
       " 98,\n",
       " 91,\n",
       " 82,\n",
       " 97,\n",
       " 110,\n",
       " 111,\n",
       " 98,\n",
       " 97,\n",
       " 113,\n",
       " 97,\n",
       " 111,\n",
       " 104,\n",
       " 115,\n",
       " 115,\n",
       " 119,\n",
       " 101,\n",
       " 96,\n",
       " 81,\n",
       " 100,\n",
       " 97,\n",
       " 81,\n",
       " 108,\n",
       " 124,\n",
       " 102,\n",
       " 87,\n",
       " 96,\n",
       " 90,\n",
       " 102,\n",
       " 87,\n",
       " 93,\n",
       " 97,\n",
       " 92,\n",
       " 102,\n",
       " 109,\n",
       " 100,\n",
       " 118,\n",
       " 92,\n",
       " 92,\n",
       " 97,\n",
       " 103,\n",
       " 109,\n",
       " 123,\n",
       " 97,\n",
       " 84]"
      ]
     },
     "execution_count": 23,
     "metadata": {},
     "output_type": "execute_result"
    }
   ],
   "source": [
    "# First we need to generate the code for MULTIPLE bell ringing\n",
    "\n",
    "people = []\n",
    "for i in range(0,50):\n",
    "    people.append(100)\n",
    "for ring in range(1, 200):\n",
    "    for person1 in range(0, 50):\n",
    "        person2 = random.randrange(0, 50)\n",
    "        people[person1] = people[person1] - 1\n",
    "        people[person2] = people[person2] + 1\n",
    "\n",
    "people"
   ]
  },
  {
   "cell_type": "code",
   "execution_count": 44,
   "id": "9c6475fd",
   "metadata": {},
   "outputs": [
    {
     "data": {
      "text/plain": [
       "[34,\n",
       " 75,\n",
       " 147,\n",
       " 28,\n",
       " 46,\n",
       " 82,\n",
       " 148,\n",
       " 0,\n",
       " 34,\n",
       " 241,\n",
       " 120,\n",
       " 54,\n",
       " 40,\n",
       " 149,\n",
       " 303,\n",
       " 116,\n",
       " 40,\n",
       " 120,\n",
       " 23,\n",
       " 99,\n",
       " 153,\n",
       " 203,\n",
       " 162,\n",
       " 42,\n",
       " 66,\n",
       " 9,\n",
       " 124,\n",
       " 101,\n",
       " 39,\n",
       " 142,\n",
       " 101,\n",
       " 169,\n",
       " 32,\n",
       " 253,\n",
       " 0,\n",
       " 213,\n",
       " 43,\n",
       " 158,\n",
       " 175,\n",
       " 116,\n",
       " 0,\n",
       " 33,\n",
       " 196,\n",
       " 15,\n",
       " 25,\n",
       " 98,\n",
       " 121,\n",
       " 140,\n",
       " 16,\n",
       " 156]"
      ]
     },
     "execution_count": 44,
     "metadata": {},
     "output_type": "execute_result"
    }
   ],
   "source": [
    "# Now we need to remove whoever has 0 Dollars in one round of the game\n",
    "import random\n",
    "random.seed()\n",
    "    \n",
    "people = []\n",
    "for i in range(0,50):\n",
    "    people.append(100)\n",
    "    \n",
    "for ring in range(1, 10000):\n",
    "    for person1 in range(0, 50):\n",
    "        \n",
    "        person2 = random.randrange(0, 50)\n",
    "        if people[person2] == 0:\n",
    "            person2 = random.randrange(0, 50)\n",
    "            \n",
    "        if people[person1] !=0:\n",
    "            people[person1] = people[person1] - 1\n",
    "            people[person2] = people[person2] + 1\n",
    "\n",
    "people"
   ]
  },
  {
   "cell_type": "code",
   "execution_count": 45,
   "id": "c90bc743",
   "metadata": {},
   "outputs": [
    {
     "data": {
      "text/plain": [
       "<BarContainer object of 50 artists>"
      ]
     },
     "execution_count": 45,
     "metadata": {},
     "output_type": "execute_result"
    },
    {
     "data": {
      "image/png": "[encoded data removed]",
      "text/plain": [
       "<Figure size 640x480 with 1 Axes>"
      ]
     },
     "metadata": {},
     "output_type": "display_data"
    }
   ],
   "source": [
    "# We can visualize what is happening in our algorithm\n",
    "import matplotlib.pyplot as plt\n",
    "%matplotlib inline\n",
    "\n",
    "plt.bar(range(0, 50), people)"
   ]
  },
  {
   "cell_type": "code",
   "execution_count": 47,
   "id": "e76ae891",
   "metadata": {},
   "outputs": [
    {
     "data": {
      "text/plain": [
       "<BarContainer object of 50 artists>"
      ]
     },
     "execution_count": 47,
     "metadata": {},
     "output_type": "execute_result"
    },
    {
     "data": {
      "image/png": "[encoded data removed]",
      "text/plain": [
       "<Figure size 640x480 with 1 Axes>"
      ]
     },
     "metadata": {},
     "output_type": "display_data"
    }
   ],
   "source": [
    "# We can sort our people\n",
    "import matplotlib.pyplot as plt\n",
    "%matplotlib inline\n",
    "\n",
    "plt.bar(range(0, 50), sorted(people, reverse = True))"
   ]
  },
  {
   "cell_type": "markdown",
   "id": "f3cd33fd",
   "metadata": {},
   "source": [
    "# Dictionaries\n",
    "### a quick review on dictionaries"
   ]
  },
  {
   "cell_type": "code",
   "execution_count": 1,
   "id": "5b391a85",
   "metadata": {},
   "outputs": [],
   "source": [
    "tel = {}"
   ]
  },
  {
   "cell_type": "code",
   "execution_count": 2,
   "id": "290ee4bf",
   "metadata": {},
   "outputs": [
    {
     "data": {
      "text/plain": [
       "dict"
      ]
     },
     "execution_count": 2,
     "metadata": {},
     "output_type": "execute_result"
    }
   ],
   "source": [
    "type(tel)"
   ]
  },
  {
   "cell_type": "code",
   "execution_count": 3,
   "id": "881c89b1",
   "metadata": {},
   "outputs": [],
   "source": [
    "tel[\"jadi\"] = \"0912\" # here you can add anything you want, we added a string though"
   ]
  },
  {
   "cell_type": "code",
   "execution_count": 4,
   "id": "e3b2834f",
   "metadata": {},
   "outputs": [
    {
     "data": {
      "text/plain": [
       "{'jadi': '0912'}"
      ]
     },
     "execution_count": 4,
     "metadata": {},
     "output_type": "execute_result"
    }
   ],
   "source": [
    "tel"
   ]
  },
  {
   "cell_type": "code",
   "execution_count": 5,
   "id": "7bd48956",
   "metadata": {},
   "outputs": [],
   "source": [
    "tel[\"bijan\"] = \"0913\""
   ]
  },
  {
   "cell_type": "code",
   "execution_count": 6,
   "id": "324be712",
   "metadata": {},
   "outputs": [
    {
     "data": {
      "text/plain": [
       "{'jadi': '0912', 'bijan': '0913'}"
      ]
     },
     "execution_count": 6,
     "metadata": {},
     "output_type": "execute_result"
    }
   ],
   "source": [
    "tel"
   ]
  },
  {
   "cell_type": "code",
   "execution_count": 9,
   "id": "2a7bd3a9",
   "metadata": {},
   "outputs": [],
   "source": [
    "# we can define two things at the same time\n",
    "# Dictionaries are not sorted with a specific style\n",
    "tel = {\"Jadi\": \"0903\", \"Sara\": \"0900\"}"
   ]
  },
  {
   "cell_type": "code",
   "execution_count": 10,
   "id": "1a737bad",
   "metadata": {},
   "outputs": [
    {
     "data": {
      "text/plain": [
       "{'Jadi': '0903', 'Sara': '0900'}"
      ]
     },
     "execution_count": 10,
     "metadata": {},
     "output_type": "execute_result"
    }
   ],
   "source": [
    "tel"
   ]
  },
  {
   "cell_type": "code",
   "execution_count": 11,
   "id": "8587b1ea",
   "metadata": {},
   "outputs": [],
   "source": [
    "tel[\"mohsen\"] = \"0917\""
   ]
  },
  {
   "cell_type": "code",
   "execution_count": 12,
   "id": "5b2f89f0",
   "metadata": {},
   "outputs": [
    {
     "data": {
      "text/plain": [
       "{'Jadi': '0903', 'Sara': '0900', 'mohsen': '0917'}"
      ]
     },
     "execution_count": 12,
     "metadata": {},
     "output_type": "execute_result"
    }
   ],
   "source": [
    "tel"
   ]
  },
  {
   "cell_type": "code",
   "execution_count": 13,
   "id": "445822b9",
   "metadata": {},
   "outputs": [],
   "source": [
    "del tel[\"Sara\"]"
   ]
  },
  {
   "cell_type": "code",
   "execution_count": 14,
   "id": "0bfd511f",
   "metadata": {},
   "outputs": [
    {
     "data": {
      "text/plain": [
       "{'Jadi': '0903', 'mohsen': '0917'}"
      ]
     },
     "execution_count": 14,
     "metadata": {},
     "output_type": "execute_result"
    }
   ],
   "source": [
    "tel"
   ]
  },
  {
   "cell_type": "code",
   "execution_count": 17,
   "id": "23f10a24",
   "metadata": {},
   "outputs": [
    {
     "data": {
      "text/plain": [
       "dict_items([('Jadi', '0903'), ('mohsen', '0917')])"
      ]
     },
     "execution_count": 17,
     "metadata": {},
     "output_type": "execute_result"
    }
   ],
   "source": [
    "tel.items()"
   ]
  },
  {
   "cell_type": "code",
   "execution_count": 20,
   "id": "c5a907a7",
   "metadata": {},
   "outputs": [
    {
     "data": {
      "text/plain": [
       "'0903'"
      ]
     },
     "execution_count": 20,
     "metadata": {},
     "output_type": "execute_result"
    }
   ],
   "source": [
    "tel.get(\"Jadi\")"
   ]
  },
  {
   "cell_type": "code",
   "execution_count": 21,
   "id": "c41e1385",
   "metadata": {},
   "outputs": [
    {
     "data": {
      "text/plain": [
       "'none'"
      ]
     },
     "execution_count": 21,
     "metadata": {},
     "output_type": "execute_result"
    }
   ],
   "source": [
    "tel.get(\"fatemeh\", \"none\")"
   ]
  },
  {
   "cell_type": "code",
   "execution_count": 23,
   "id": "c4f75b31",
   "metadata": {},
   "outputs": [
    {
     "data": {
      "text/plain": [
       "dict_keys(['Jadi', 'mohsen'])"
      ]
     },
     "execution_count": 23,
     "metadata": {},
     "output_type": "execute_result"
    }
   ],
   "source": [
    "tel.keys()"
   ]
  },
  {
   "cell_type": "code",
   "execution_count": 25,
   "id": "d8d6d80f",
   "metadata": {},
   "outputs": [
    {
     "data": {
      "text/plain": [
       "True"
      ]
     },
     "execution_count": 25,
     "metadata": {},
     "output_type": "execute_result"
    }
   ],
   "source": [
    "\"Jadi\" in tel"
   ]
  },
  {
   "cell_type": "code",
   "execution_count": 26,
   "id": "8211c4a2",
   "metadata": {},
   "outputs": [
    {
     "data": {
      "text/plain": [
       "False"
      ]
     },
     "execution_count": 26,
     "metadata": {},
     "output_type": "execute_result"
    }
   ],
   "source": [
    "\"Fati\" in tel"
   ]
  },
  {
   "cell_type": "code",
   "execution_count": 27,
   "id": "b2bb12d0",
   "metadata": {},
   "outputs": [],
   "source": [
    "tel[\"bijan\"] = \"Reza\""
   ]
  },
  {
   "cell_type": "code",
   "execution_count": 28,
   "id": "8c57977a",
   "metadata": {},
   "outputs": [
    {
     "data": {
      "text/plain": [
       "{'Jadi': '0903', 'mohsen': '0917', 'bijan': 'Reza'}"
      ]
     },
     "execution_count": 28,
     "metadata": {},
     "output_type": "execute_result"
    }
   ],
   "source": [
    "tel"
   ]
  },
  {
   "cell_type": "code",
   "execution_count": 34,
   "id": "8f9117ca",
   "metadata": {},
   "outputs": [
    {
     "name": "stdout",
     "output_type": "stream",
     "text": [
      "Jadi\n",
      "mohsen\n",
      "bijan\n"
     ]
    }
   ],
   "source": [
    "for a in tel:\n",
    "    print (a)"
   ]
  },
  {
   "cell_type": "code",
   "execution_count": 32,
   "id": "018bf0c5",
   "metadata": {},
   "outputs": [
    {
     "name": "stdout",
     "output_type": "stream",
     "text": [
      "('Jadi', '0903')\n",
      "('mohsen', '0917')\n",
      "('bijan', 'Reza')\n"
     ]
    }
   ],
   "source": [
    "for a in tel.items():\n",
    "    print (a)"
   ]
  },
  {
   "cell_type": "code",
   "execution_count": 37,
   "id": "40b91937",
   "metadata": {},
   "outputs": [
    {
     "name": "stdout",
     "output_type": "stream",
     "text": [
      "key is  Jadi\n",
      "value is  0903\n",
      "key is  mohsen\n",
      "value is  0917\n",
      "key is  bijan\n",
      "value is  Reza\n"
     ]
    }
   ],
   "source": [
    "for k, v in tel.items():\n",
    "    print (\"key is \", k)\n",
    "    print (\"value is \", v)"
   ]
  },
  {
   "cell_type": "markdown",
   "id": "6d981a40",
   "metadata": {},
   "source": [
    "# Safe box passcode decoding\n",
    "## a question to be solved with dictionaries"
   ]
  },
  {
   "cell_type": "markdown",
   "id": "cd1db236",
   "metadata": {},
   "source": [
    "### You have a safe box code with five digits that you cannot remember. However, you can remember the following relationships between its digits. Find the code"
   ]
  },
  {
   "cell_type": "code",
   "execution_count": 57,
   "id": "f7e81c11",
   "metadata": {},
   "outputs": [
    {
     "name": "stdout",
     "output_type": "stream",
     "text": [
      "{'one': 7, 'two': 4, 'three': 6, 'four': 5, 'five': 8}\n"
     ]
    }
   ],
   "source": [
    "def sum_digits(code_digits):\n",
    "    sum_digits = 0\n",
    "    for k in code_digits:\n",
    "        sum_digits += code_digits[k]\n",
    "    return sum_digits\n",
    "\n",
    "def code_is_OK(code_digits):\n",
    "    if code_digits[\"three\"] + code_digits[\"five\"] == 14 and \\\n",
    "        code_digits[\"two\"]*2 - code_digits[\"one\"] == 1 and \\\n",
    "        code_digits[\"four\"] - code_digits[\"two\"] == 1 and \\\n",
    "        code_digits[\"two\"] + code_digits[\"three\"] == 10 and \\\n",
    "        sum_digits(code_digits) == 30:\n",
    "        return True\n",
    "\n",
    "for code in range(1, 100000):\n",
    "    this_code = str(code).zfill(5)\n",
    "    \n",
    "    code_digits = {}\n",
    "    code_digits[\"one\"] = int(this_code[0])\n",
    "    code_digits[\"two\"] = int(this_code[1])\n",
    "    code_digits[\"three\"] = int(this_code[2])\n",
    "    code_digits[\"four\"] = int(this_code[3])\n",
    "    code_digits[\"five\"] = int(this_code[4])\n",
    "    \n",
    "    if code_is_OK(code_digits):\n",
    "        print (code_digits)\n",
    "    "
   ]
  },
  {
   "cell_type": "code",
   "execution_count": null,
   "id": "3f4c144f",
   "metadata": {},
   "outputs": [],
   "source": []
  }
 ],
 "metadata": {
  "kernelspec": {
   "display_name": "Python 3 (ipykernel)",
   "language": "python",
   "name": "python3"
  },
  "language_info": {
   "codemirror_mode": {
    "name": "ipython",
    "version": 3
   },
   "file_extension": ".py",
   "mimetype": "text/x-python",
   "name": "python",
   "nbconvert_exporter": "python",
   "pygments_lexer": "ipython3",
   "version": "3.9.13"
  }
 },
 "nbformat": 4,
 "nbformat_minor": 5
}
